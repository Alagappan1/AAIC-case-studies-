{
 "cells": [
  {
   "cell_type": "markdown",
   "metadata": {},
   "source": [
    "1 - Write a function that inputs a number and prints the multiplication table of that number"
   ]
  },
  {
   "cell_type": "code",
   "execution_count": 1,
   "metadata": {},
   "outputs": [
    {
     "name": "stdout",
     "output_type": "stream",
     "text": [
      "Enter Number: 5\n",
      "5 * 1 = 5\n",
      "5 * 2 = 10\n",
      "5 * 3 = 15\n",
      "5 * 4 = 20\n",
      "5 * 5 = 25\n",
      "5 * 6 = 30\n",
      "5 * 7 = 35\n",
      "5 * 8 = 40\n",
      "5 * 9 = 45\n",
      "5 * 10 = 50\n"
     ]
    }
   ],
   "source": [
    "def mul(num):\n",
    "    '''\n",
    "    This function computes and prints the multiplication table of a number\n",
    "    '''\n",
    "    \n",
    "    for i in range(1, 11):\n",
    "        print(f\"{num} * {i} = {num*i}\")\n",
    "    return\n",
    "\n",
    "\n",
    "num1 = int(input(\"Enter Number: \"))\n",
    "mul(num1)"
   ]
  },
  {
   "cell_type": "markdown",
   "metadata": {},
   "source": [
    "2 - Write a program to print twin primes less than 1000. If two consecutive odd numbers are\n",
    "both prime then they are known as twin primes"
   ]
  },
  {
   "cell_type": "code",
   "execution_count": 2,
   "metadata": {},
   "outputs": [
    {
     "name": "stdout",
     "output_type": "stream",
     "text": [
      "The twin prime pairs are:\n",
      "(3, 5)\n",
      "(5, 7)\n",
      "(11, 13)\n",
      "(17, 19)\n",
      "(29, 31)\n",
      "(41, 43)\n",
      "(59, 61)\n",
      "(71, 73)\n",
      "(101, 103)\n",
      "(107, 109)\n",
      "(137, 139)\n",
      "(149, 151)\n",
      "(179, 181)\n",
      "(191, 193)\n",
      "(197, 199)\n",
      "(227, 229)\n",
      "(239, 241)\n",
      "(269, 271)\n",
      "(281, 283)\n",
      "(311, 313)\n",
      "(347, 349)\n",
      "(419, 421)\n",
      "(431, 433)\n",
      "(461, 463)\n",
      "(521, 523)\n",
      "(569, 571)\n",
      "(599, 601)\n",
      "(617, 619)\n",
      "(641, 643)\n",
      "(659, 661)\n",
      "(809, 811)\n",
      "(821, 823)\n",
      "(827, 829)\n",
      "(857, 859)\n",
      "(881, 883)\n"
     ]
    }
   ],
   "source": [
    "def twin(lst):\n",
    "    \"\"\"\n",
    "    This function generates twin prime number pairs\n",
    "    \"\"\"\n",
    "    for i in lst:\n",
    "        j = i+2\n",
    "        if i and j in lst:\n",
    "            print(f\"({i}, {j})\")\n",
    "\n",
    "\n",
    "def prime(num):\n",
    "    \"\"\"\n",
    "    This function finds out a number is prime or not\n",
    "    \"\"\"\n",
    "    prime = True\n",
    "    if num == 1:\n",
    "        prime = False\n",
    "    else:\n",
    "        for i in range(2, num // 2):\n",
    "            if num % i == 0:\n",
    "                prime = False\n",
    "    if prime == True:\n",
    "        return num\n",
    "\n",
    "\n",
    "# Lists of numbers from 1 to 1000\n",
    "lst = list(range(1, 1000))\n",
    "# Finds out all the odd numbers from the above list\n",
    "odd_lst = list(filter(lambda x: (x % 2 != 0), lst))\n",
    "# Finds out all the primes from the odd numbers\n",
    "prime_lst = list(filter(prime, odd_lst))\n",
    "\n",
    "print(\"The twin prime pairs are:\")\n",
    "twin(prime_lst)"
   ]
  },
  {
   "cell_type": "markdown",
   "metadata": {},
   "source": [
    "3- Write a program to find out the prime factors of a number. Example: prime factors of 56 -\n",
    "2, 2, 2, 7"
   ]
  },
  {
   "cell_type": "code",
   "execution_count": 4,
   "metadata": {},
   "outputs": [
    {
     "name": "stdout",
     "output_type": "stream",
     "text": [
      "Enter Number: 88\n",
      "2 2 2 11 "
     ]
    }
   ],
   "source": [
    "def is_prime(num1):\n",
    "    \"\"\"\n",
    "    This function returns true if a number is prime\n",
    "    \"\"\"\n",
    "    for i in range(2, num1):\n",
    "        if num1 % i == 0:\n",
    "            return False\n",
    "    return True\n",
    "\n",
    "\n",
    "def factor_of_number(num):\n",
    "    \"\"\"\n",
    "    This function prints the prime factorisation of a number\n",
    "    \"\"\"\n",
    "    # If Number is divisible by 2 then keep on deviding it by 2\n",
    "    while num % 2 == 0:\n",
    "        print(2, end=\" \")\n",
    "        num /= 2\n",
    "        num = int(num)\n",
    "    # If Number is not divisoble by 2 then check with prime nos. greater than 2\n",
    "    for i in range(3, num+1):\n",
    "        while num % i == 0:\n",
    "            if is_prime(i):\n",
    "                print(i, end=\" \")\n",
    "                num /= i\n",
    "                num = int(num)\n",
    "\n",
    "\n",
    "# Asks for Input\n",
    "num2 = int(input(\"Enter Number: \"))\n",
    "factor_of_number(num2)"
   ]
  },
  {
   "cell_type": "markdown",
   "metadata": {},
   "source": [
    "4- Write a program to implement these formulae of permutations and combinations.\n",
    "Number of permutations of n objects taken r at a time: p(n, r) = n! / (n-r)!. Number of\n",
    "combinations of n objects taken r at a time is: c(n, r) = n! / (r!*(n-r)!) = p(n,r) / r!"
   ]
  },
  {
   "cell_type": "code",
   "execution_count": 7,
   "metadata": {},
   "outputs": [
    {
     "name": "stdout",
     "output_type": "stream",
     "text": [
      "Enter Value of n: 5\n",
      "Enter Value of r: 2\n",
      "P(5,2) = 20.0\n",
      "C(5,2) = 10.0\n"
     ]
    }
   ],
   "source": [
    "def factorial(num):\n",
    "    \"\"\"\n",
    "    This is a recursive function to find the factorial of a given number\n",
    "    \"\"\"\n",
    "    return 1 if num <= 1 else (num * factorial(num-1))\n",
    "\n",
    "\n",
    "def pnr(n, r):\n",
    "    \"\"\"\n",
    "    Computes P(n,r) given n and r values\n",
    "    \"\"\"\n",
    "    pnr = factorial(n) / factorial(n-r)\n",
    "    return pnr\n",
    "\n",
    "\n",
    "def cnr(n, r):\n",
    "    \"\"\"\n",
    "    Computes C(n, r) given n and r values\n",
    "    \"\"\"\n",
    "    cnr = pnr(n, r) / factorial(r)\n",
    "    return cnr\n",
    "\n",
    "\n",
    "# Asks for user Input\n",
    "n = int(input(\"Enter Value of n: \"))\n",
    "r = int(input(\"Enter Value of r: \"))\n",
    "print(f\"P({n},{r}) = {pnr(n, r)}\")\n",
    "print(f\"C({n},{r}) = {cnr(n, r)}\")"
   ]
  },
  {
   "cell_type": "markdown",
   "metadata": {},
   "source": [
    "5 - Write a function that converts a decimal number to binary number"
   ]
  },
  {
   "cell_type": "code",
   "execution_count": 10,
   "metadata": {},
   "outputs": [
    {
     "name": "stdout",
     "output_type": "stream",
     "text": [
      "Enter Decimal No: 8\n",
      "1 0 0 0 "
     ]
    }
   ],
   "source": [
    "def decimal_to_binary(num):\n",
    "    \"\"\"\n",
    "    This function converts Decimal to Binary\n",
    "    \"\"\"\n",
    "    bin_no = []\n",
    "    while num:\n",
    "        while num % 2 == 0:\n",
    "            num /= 2\n",
    "            bin_no.append(0)\n",
    "        while num % 2 != 0:\n",
    "            num = num // 2\n",
    "            bin_no.append(1)\n",
    "    for ele in reversed(bin_no):\n",
    "        print(ele, end=\" \")\n",
    "\n",
    "\n",
    "# Asks for user Input\n",
    "num = int(input(\"Enter Decimal No: \"))\n",
    "decimal_to_binary(num)"
   ]
  },
  {
   "cell_type": "markdown",
   "metadata": {},
   "source": [
    "6- Write a function cubesum() that accepts an integer and returns the sum of the cubes of\n",
    "individual digits of that number. Use this function to make functions PrintArmstrong() and\n",
    "isArmstrong() to print Armstrong numbers and to find whether is an Armstrong number."
   ]
  },
  {
   "cell_type": "code",
   "execution_count": 11,
   "metadata": {},
   "outputs": [
    {
     "name": "stdout",
     "output_type": "stream",
     "text": [
      "Enter a Starting Range: 45\n",
      "Enter a Ending Range: 1000\n",
      "Armstrong Numbers from 45 to 1000: \n",
      "153\n",
      "370\n",
      "371\n",
      "407\n"
     ]
    }
   ],
   "source": [
    "from functools import reduce\n",
    "\n",
    "\n",
    "def cube_sum(num):\n",
    "    \"\"\"\n",
    "    This function returns the sum of the cubes of individual digits of a number\n",
    "    \"\"\"\n",
    "    # Converting the number to an Integer List\n",
    "    num_list = list(map(int, str(num)))\n",
    "    # Creating a list cubenum by taking cube of each element in the Integer List\n",
    "    cubenum = list(map(lambda x: x**3, num_list))\n",
    "    # Finding the cube sum of the number\n",
    "    sum = reduce(lambda x, y: x + y, cubenum)\n",
    "    return sum\n",
    "\n",
    "\n",
    "def is_armstrong(num):\n",
    "    \"\"\"\n",
    "    This function checks if a number is Armstrong Number or not\n",
    "    \"\"\"\n",
    "    if num == cube_sum(num):\n",
    "        return True\n",
    "    return False\n",
    "\n",
    "\n",
    "def print_armstrong(num1, num2):\n",
    "    \"\"\"\n",
    "    This function prints Armstrong Numbers on a range\n",
    "    \"\"\"\n",
    "    for num in range(num1, num2+1):\n",
    "        if is_armstrong(num):\n",
    "            print(num)\n",
    "\n",
    "\n",
    "# Asks for user Input\n",
    "number1 = int(input(\"Enter a Starting Range: \"))\n",
    "number2 = int(input(\"Enter a Ending Range: \"))\n",
    "print(f\"Armstrong Numbers from {number1} to {number2}: \")\n",
    "print_armstrong(number1, number2)"
   ]
  },
  {
   "cell_type": "markdown",
   "metadata": {},
   "source": [
    "7 - Write a function prodDigits() that inputs a number and returns the product of digits of that\n",
    "number."
   ]
  },
  {
   "cell_type": "code",
   "execution_count": 12,
   "metadata": {},
   "outputs": [
    {
     "name": "stdout",
     "output_type": "stream",
     "text": [
      "Enter a Number: 45\n",
      "Product of digits of the Number 45 = 20\n"
     ]
    }
   ],
   "source": [
    "from functools import reduce\n",
    "\n",
    "\n",
    "def prod_digits(num):\n",
    "    \"\"\"\n",
    "    This function returns the product of digits of a Number\n",
    "    \"\"\"\n",
    "    # Converting Number to a list of digits\n",
    "    list_num = list(map(int, str(num)))\n",
    "    # Calculating product of digits\n",
    "    prod = reduce(lambda x, y: x * y, list_num)\n",
    "    return prod\n",
    "\n",
    "\n",
    "# Asks for user Input\n",
    "num1 = int(input(\"Enter a Number: \"))\n",
    "print(f\"Product of digits of the Number {num1} = {prod_digits(num1)}\")"
   ]
  },
  {
   "cell_type": "markdown",
   "metadata": {},
   "source": [
    "8 - If all digits of a number n are multiplied by each other repeating with the product, the one\n",
    "digit number obtained at last is called the multiplicative digital root of n. The number of\n",
    "times digits need to be multiplied to reach one digit is called the multiplicative\n",
    "persistance of n.\n",
    "Example: 86 -> 48 -> 32 -> 6 (MDR 6, MPersistence 3)\n",
    "341 -> 12->2 (MDR 2, MPersistence 2)\n",
    "Using the function prodDigits() of previous exercise write functions MDR() and\n",
    "MPersistence() that input a number and return its multiplicative digital root and\n",
    "multiplicative persistence respectively"
   ]
  },
  {
   "cell_type": "code",
   "execution_count": 13,
   "metadata": {},
   "outputs": [
    {
     "name": "stdout",
     "output_type": "stream",
     "text": [
      "Enter a Number: 45\n",
      "45 > 20 > 0\n",
      "MDR of 45 = 0\n",
      "mpersistence of 45 = 2\n"
     ]
    }
   ],
   "source": [
    "from functools import reduce\n",
    "\n",
    "\n",
    "def prod_digits(num):\n",
    "    \"\"\"\n",
    "    This function returns the product of digits of a Number\n",
    "    \"\"\"\n",
    "    list_num = list(map(int, str(num)))\n",
    "    product = reduce(lambda x, y: x * y, list_num)\n",
    "    return product\n",
    "\n",
    "\n",
    "def mdr(num):\n",
    "    \"\"\"\n",
    "    This function returns the Multiplicative Digital Root (MDR) of a Number\n",
    "    \"\"\"\n",
    "    while num // 10 != 0:\n",
    "        print(num, end=\" > \")\n",
    "        num = prod_digits(num)\n",
    "    print(num, end=\"\\n\")\n",
    "    return num\n",
    "\n",
    "\n",
    "def m_persistence(num):\n",
    "    \"\"\"\n",
    "    This function returns the multiplicative persistance of a Number\n",
    "    \"\"\"\n",
    "    count = 0\n",
    "    while num // 10 != 0:\n",
    "        num = prod_digits(num)\n",
    "        count += 1\n",
    "    return count\n",
    "\n",
    "\n",
    "# Asks for user Input\n",
    "num = int(input(\"Enter a Number: \"))\n",
    "print(f\"MDR of {num} = {mdr(num)}\\nmpersistence of {num} = {m_persistence(num)}\")"
   ]
  },
  {
   "cell_type": "markdown",
   "metadata": {},
   "source": [
    "9 - Write a function sumPdivisors() that finds the sum of proper divisors of a number. Proper\n",
    "divisors of a number are those numbers by which the number is divisible, except the\n",
    "number itself. For example proper divisors of 36 are 1, 2, 3, 4, 6, 9, 12, 18"
   ]
  },
  {
   "cell_type": "code",
   "execution_count": 14,
   "metadata": {},
   "outputs": [
    {
     "name": "stdout",
     "output_type": "stream",
     "text": [
      "Enter a Number: 45\n",
      "1 3 5 9 15 \n",
      "Sum of All Proper Divisors of 45 = 33\n"
     ]
    }
   ],
   "source": [
    "def sum_proper_divisors(num):\n",
    "    \"\"\"\n",
    "    This function returns the sum of proper divisors of a number\n",
    "    \"\"\"\n",
    "    sum_of_div = 0\n",
    "    for div in range(1, num):\n",
    "        if num % div == 0:\n",
    "            print(div, end=\" \")\n",
    "            sum_of_div += div\n",
    "    return sum_of_div\n",
    "\n",
    "\n",
    "# Asks for user Input\n",
    "num = int(input(\"Enter a Number: \"))\n",
    "print(f\"\\nSum of All Proper Divisors of {num} = {sum_proper_divisors(num)}\")"
   ]
  },
  {
   "cell_type": "markdown",
   "metadata": {},
   "source": [
    "10 - A number is called perfect if the sum of proper divisors of that number is equal to the\n",
    "number. For example 28 is perfect number, since 1+2+4+7+14=28. Write a program to\n",
    "print all the perfect numbers in a given range"
   ]
  },
  {
   "cell_type": "code",
   "execution_count": 15,
   "metadata": {},
   "outputs": [
    {
     "name": "stdout",
     "output_type": "stream",
     "text": [
      "Enter Starting Range: 1\n",
      "Enter Ending Range: 5555\n",
      "Perfect Number in the Range 1 to 5555\n",
      "6 28 496 \n"
     ]
    }
   ],
   "source": [
    "def sum_proper_divisors(num):\n",
    "    \"\"\"\n",
    "    This function returns the sum of proper divisors of a number\n",
    "    \"\"\"\n",
    "    sum_of_div = 0\n",
    "    for div in range(1, num):\n",
    "        if num % div == 0:\n",
    "            sum_of_div += div\n",
    "    return sum_of_div\n",
    "\n",
    "\n",
    "def proper_divisors_in_range(num1, num2):\n",
    "    \"\"\"\n",
    "    This function prints all the perfect numbers in a given range\n",
    "    \"\"\"\n",
    "    for num in range(num1, num2+1):\n",
    "        if num == sum_proper_divisors(num):\n",
    "            print(num, end=\" \")\n",
    "    return \"\"\n",
    "\n",
    "\n",
    "# Asks for user Input\n",
    "number1 = int(input(\"Enter Starting Range: \"))\n",
    "number2 = int(input(\"Enter Ending Range: \"))\n",
    "\n",
    "print(f\"Perfect Number in the Range {number1} to {number2}\")\n",
    "print(proper_divisors_in_range(number1, number2))"
   ]
  },
  {
   "cell_type": "markdown",
   "metadata": {},
   "source": [
    "11 - Two different numbers are called amicable numbers if the sum of the proper divisors of\n",
    "each is equal to the other number. For example 220 and 284 are amicable numbers.\n",
    "Sum of proper divisors of 220 = 1+2+4+5+10+11+20+22+44+55+110 = 284\n",
    "Sum of proper divisors of 284 = 1+2+4+71+142 = 220\n",
    "Write a function to print pairs of amicable numbers in a range"
   ]
  },
  {
   "cell_type": "code",
   "execution_count": 17,
   "metadata": {},
   "outputs": [
    {
     "name": "stdout",
     "output_type": "stream",
     "text": [
      "Enter Starting Range: 1\n",
      "Enter Ending Range: 500\n",
      "The Amicable Number pairs in range 1 to 500 are\n",
      "(220, 284)  \n"
     ]
    }
   ],
   "source": [
    "def sum_proper_divisors(num):\n",
    "    \"\"\"\n",
    "    This function returns the sum of proper divisors of a number\n",
    "    \"\"\"\n",
    "    sum_of_div = 0\n",
    "    for div in range(1, num):\n",
    "        if num % div == 0:\n",
    "            sum_of_div += div\n",
    "    return sum_of_div\n",
    "\n",
    "\n",
    "def amicable_num_in_range(num1, num2):\n",
    "    \"\"\"\n",
    "    This function prints the Amicable Number pairs in a given range\n",
    "    \"\"\"\n",
    "    repetative = []\n",
    "    for i in range(num1, num2+1):\n",
    "        j = sum_proper_divisors(i)\n",
    "        if (sum_proper_divisors(j) == i) and (i != j):\n",
    "            repetative.append(j)\n",
    "            if i in repetative:\n",
    "                continue\n",
    "            print(f\"({i}, {j})\", end=\"  \")\n",
    "    return \"\"\n",
    "\n",
    "\n",
    "# Asks for user Input\n",
    "num1 = int(input(\"Enter Starting Range: \"))\n",
    "num2 = int(input(\"Enter Ending Range: \"))\n",
    "\n",
    "print(f\"The Amicable Number pairs in range {num1} to {num2} are\")\n",
    "print(amicable_num_in_range(num1, num2))"
   ]
  },
  {
   "cell_type": "markdown",
   "metadata": {},
   "source": [
    "12 - Write a program which can filter odd numbers in a list by using filter function"
   ]
  },
  {
   "cell_type": "code",
   "execution_count": 18,
   "metadata": {},
   "outputs": [
    {
     "name": "stdout",
     "output_type": "stream",
     "text": [
      "[1, 3, 5, 7, 9, 11, 13, 15, 17, 19, 21, 23, 25, 27, 29, 31, 33, 35, 37, 39, 41, 43, 45, 47, 49]\n"
     ]
    }
   ],
   "source": [
    "# list of numbers from 1 to 50\n",
    "numbers = list(range(1, 50))\n",
    "odd_numbers = list(filter(lambda x: x % 2 != 0, numbers))\n",
    "# Printing the odd number list\n",
    "print(odd_numbers)"
   ]
  },
  {
   "cell_type": "markdown",
   "metadata": {},
   "source": [
    "13 - Write a program which can map() to make a list whose elements are cube of elements in\n",
    "a given list"
   ]
  },
  {
   "cell_type": "code",
   "execution_count": 19,
   "metadata": {},
   "outputs": [
    {
     "name": "stdout",
     "output_type": "stream",
     "text": [
      "[1, 8, 27, 64, 125, 216, 343, 512, 729]\n"
     ]
    }
   ],
   "source": [
    "# list of numbers from 1 to 10\n",
    "numbers = list(range(1, 10))\n",
    "cube_of_numbers = list(map(lambda x: x**3, numbers))\n",
    "# Printing the cube of given list\n",
    "print(cube_of_numbers)"
   ]
  },
  {
   "cell_type": "markdown",
   "metadata": {},
   "source": [
    "14 - Write a program which can map() and filter() to make a list whose elements are cube of\n",
    "even number in a given list"
   ]
  },
  {
   "cell_type": "code",
   "execution_count": 20,
   "metadata": {},
   "outputs": [
    {
     "name": "stdout",
     "output_type": "stream",
     "text": [
      "[8, 64, 216, 512, 1000, 1728, 2744, 4096, 5832, 8000, 10648, 13824, 17576, 21952, 27000, 32768, 39304, 46656, 54872, 64000, 74088, 85184, 97336, 110592]\n"
     ]
    }
   ],
   "source": [
    "# list of numbers from 1 to 50\n",
    "numbers = list(range(1, 50))\n",
    "even_numbers = list(filter(lambda x: x % 2 == 0, numbers))\n",
    "cube_of_even_numbers = list(map(lambda x: x**3, even_numbers))\n",
    "# Printing the cube of given list\n",
    "print(cube_of_even_numbers)"
   ]
  },
  {
   "cell_type": "markdown",
   "metadata": {},
   "source": [
    "=========================================End Of File================================================="
   ]
  }
 ],
 "metadata": {
  "kernelspec": {
   "display_name": "Python 3",
   "language": "python",
   "name": "python3"
  },
  "language_info": {
   "codemirror_mode": {
    "name": "ipython",
    "version": 3
   },
   "file_extension": ".py",
   "mimetype": "text/x-python",
   "name": "python",
   "nbconvert_exporter": "python",
   "pygments_lexer": "ipython3",
   "version": "3.6.8"
  }
 },
 "nbformat": 4,
 "nbformat_minor": 2
}
