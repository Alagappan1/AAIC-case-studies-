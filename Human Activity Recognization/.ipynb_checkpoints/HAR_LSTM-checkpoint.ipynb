{
 "cells": [
  {
   "cell_type": "code",
   "execution_count": 1,
   "metadata": {},
   "outputs": [],
   "source": [
    "# Importing Libraries"
   ]
  },
  {
   "cell_type": "code",
   "execution_count": 2,
   "metadata": {},
   "outputs": [],
   "source": [
    "import pandas as pd\n",
    "import numpy as np"
   ]
  },
  {
   "cell_type": "code",
   "execution_count": 3,
   "metadata": {},
   "outputs": [],
   "source": [
    "# Activities are the class labels\n",
    "# It is a 6 class classification\n",
    "ACTIVITIES = {\n",
    "    0: 'WALKING',\n",
    "    1: 'WALKING_UPSTAIRS',\n",
    "    2: 'WALKING_DOWNSTAIRS',\n",
    "    3: 'SITTING',\n",
    "    4: 'STANDING',\n",
    "    5: 'LAYING',\n",
    "}\n",
    "\n",
    "# Utility function to print the confusion matrix\n",
    "def confusion_matrix(Y_true, Y_pred):\n",
    "    Y_true = pd.Series([ACTIVITIES[y] for y in np.argmax(Y_true, axis=1)])\n",
    "    Y_pred = pd.Series([ACTIVITIES[y] for y in np.argmax(Y_pred, axis=1)])\n",
    "\n",
    "    return pd.crosstab(Y_true, Y_pred, rownames=['True'], colnames=['Pred'])"
   ]
  },
  {
   "cell_type": "markdown",
   "metadata": {},
   "source": [
    "### Data"
   ]
  },
  {
   "cell_type": "code",
   "execution_count": 4,
   "metadata": {},
   "outputs": [],
   "source": [
    "# Data directory\n",
    "DATADIR = 'UCI_HAR_Dataset'"
   ]
  },
  {
   "cell_type": "code",
   "execution_count": 5,
   "metadata": {},
   "outputs": [],
   "source": [
    "# Raw data signals\n",
    "# Signals are from Accelerometer and Gyroscope\n",
    "# The signals are in x,y,z directions\n",
    "# Sensor signals are filtered to have only body acceleration\n",
    "# excluding the acceleration due to gravity\n",
    "# Triaxial acceleration from the accelerometer is total acceleration\n",
    "SIGNALS = [\n",
    "    \"body_acc_x\",\n",
    "    \"body_acc_y\",\n",
    "    \"body_acc_z\",\n",
    "    \"body_gyro_x\",\n",
    "    \"body_gyro_y\",\n",
    "    \"body_gyro_z\",\n",
    "    \"total_acc_x\",\n",
    "    \"total_acc_y\",\n",
    "    \"total_acc_z\"\n",
    "]"
   ]
  },
  {
   "cell_type": "code",
   "execution_count": 6,
   "metadata": {},
   "outputs": [],
   "source": [
    "# Utility function to read the data from csv file\n",
    "def _read_csv(filename):\n",
    "    return pd.read_csv(filename, delim_whitespace=True, header=None)\n",
    "\n",
    "# Utility function to load the load\n",
    "def load_signals(subset):\n",
    "    signals_data = []\n",
    "\n",
    "    for signal in SIGNALS:\n",
    "        filename = f'UCI_HAR_Dataset/{subset}/Inertial Signals/{signal}_{subset}.txt'\n",
    "        signals_data.append(\n",
    "            _read_csv(filename).as_matrix()\n",
    "        ) \n",
    "\n",
    "    # Transpose is used to change the dimensionality of the output,\n",
    "    # aggregating the signals by combination of sample/timestep.\n",
    "    # Resultant shape is (7352 train/2947 test samples, 128 timesteps, 9 signals)\n",
    "    return np.transpose(signals_data, (1, 2, 0))"
   ]
  },
  {
   "cell_type": "code",
   "execution_count": 7,
   "metadata": {},
   "outputs": [],
   "source": [
    "\n",
    "def load_y(subset):\n",
    "    \"\"\"\n",
    "    The objective that we are trying to predict is a integer, from 1 to 6,\n",
    "    that represents a human activity. We return a binary representation of \n",
    "    every sample objective as a 6 bits vector using One Hot Encoding\n",
    "    (https://pandas.pydata.org/pandas-docs/stable/generated/pandas.get_dummies.html)\n",
    "    \"\"\"\n",
    "    filename = f'UCI_HAR_Dataset/{subset}/y_{subset}.txt'\n",
    "    y = _read_csv(filename)[0]\n",
    "\n",
    "    return pd.get_dummies(y).as_matrix()"
   ]
  },
  {
   "cell_type": "code",
   "execution_count": 8,
   "metadata": {},
   "outputs": [],
   "source": [
    "def load_data():\n",
    "    \"\"\"\n",
    "    Obtain the dataset from multiple files.\n",
    "    Returns: X_train, X_test, y_train, y_test\n",
    "    \"\"\"\n",
    "    X_train, X_test = load_signals('train'), load_signals('test')\n",
    "    y_train, y_test = load_y('train'), load_y('test')\n",
    "\n",
    "    return X_train, X_test, y_train, y_test"
   ]
  },
  {
   "cell_type": "code",
   "execution_count": 9,
   "metadata": {},
   "outputs": [],
   "source": [
    "# Importing tensorflow\n",
    "np.random.seed(42)\n",
    "import tensorflow as tf\n",
    "tf.set_random_seed(42)"
   ]
  },
  {
   "cell_type": "code",
   "execution_count": 10,
   "metadata": {},
   "outputs": [],
   "source": [
    "# Configuring a session\n",
    "session_conf = tf.ConfigProto(\n",
    "    intra_op_parallelism_threads=1,\n",
    "    inter_op_parallelism_threads=1\n",
    ")"
   ]
  },
  {
   "cell_type": "code",
   "execution_count": 11,
   "metadata": {},
   "outputs": [
    {
     "name": "stderr",
     "output_type": "stream",
     "text": [
      "Using TensorFlow backend.\n"
     ]
    }
   ],
   "source": [
    "# Import Keras\n",
    "from keras import backend as K\n",
    "sess = tf.Session(graph=tf.get_default_graph(), config=session_conf)\n",
    "K.set_session(sess)"
   ]
  },
  {
   "cell_type": "code",
   "execution_count": 12,
   "metadata": {},
   "outputs": [],
   "source": [
    "# Importing libraries\n",
    "from keras.models import Sequential\n",
    "from keras.layers import LSTM\n",
    "from keras.layers.core import Dense, Dropout"
   ]
  },
  {
   "cell_type": "code",
   "execution_count": 13,
   "metadata": {},
   "outputs": [],
   "source": [
    "# Initializing parameters\n",
    "epochs = 30\n",
    "batch_size = 16\n",
    "n_hidden = 32"
   ]
  },
  {
   "cell_type": "code",
   "execution_count": 14,
   "metadata": {},
   "outputs": [],
   "source": [
    "# Utility function to count the number of classes\n",
    "def _count_classes(y):\n",
    "    return len(set([tuple(category) for category in y]))"
   ]
  },
  {
   "cell_type": "code",
   "execution_count": 15,
   "metadata": {},
   "outputs": [
    {
     "name": "stderr",
     "output_type": "stream",
     "text": [
      "C:\\Users\\user\\Anaconda3\\envs\\tensorflow_gpu\\lib\\site-packages\\ipykernel_launcher.py:12: FutureWarning: Method .as_matrix will be removed in a future version. Use .values instead.\n",
      "  if sys.path[0] == '':\n",
      "C:\\Users\\user\\Anaconda3\\envs\\tensorflow_gpu\\lib\\site-packages\\ipykernel_launcher.py:11: FutureWarning: Method .as_matrix will be removed in a future version. Use .values instead.\n",
      "  # This is added back by InteractiveShellApp.init_path()\n"
     ]
    }
   ],
   "source": [
    "# Loading the train and test data\n",
    "X_train, X_test, Y_train, Y_test = load_data()"
   ]
  },
  {
   "cell_type": "code",
   "execution_count": 16,
   "metadata": {},
   "outputs": [
    {
     "name": "stdout",
     "output_type": "stream",
     "text": [
      "128\n",
      "9\n",
      "7352\n"
     ]
    }
   ],
   "source": [
    "timesteps = len(X_train[0])\n",
    "input_dim = len(X_train[0][0])\n",
    "n_classes = _count_classes(Y_train)\n",
    "\n",
    "print(timesteps)\n",
    "print(input_dim)\n",
    "print(len(X_train))"
   ]
  },
  {
   "cell_type": "markdown",
   "metadata": {},
   "source": [
    "- Defining the Architecture of LSTM"
   ]
  },
  {
   "cell_type": "code",
   "execution_count": 17,
   "metadata": {},
   "outputs": [
    {
     "name": "stderr",
     "output_type": "stream",
     "text": [
      "WARNING: Logging before flag parsing goes to stderr.\n",
      "W0924 07:16:22.250421 11132 deprecation_wrapper.py:119] From C:\\Users\\user\\Anaconda3\\envs\\tensorflow_gpu\\lib\\site-packages\\keras\\backend\\tensorflow_backend.py:74: The name tf.get_default_graph is deprecated. Please use tf.compat.v1.get_default_graph instead.\n",
      "\n",
      "W0924 07:16:22.252417 11132 deprecation_wrapper.py:119] From C:\\Users\\user\\Anaconda3\\envs\\tensorflow_gpu\\lib\\site-packages\\keras\\backend\\tensorflow_backend.py:519: The name tf.placeholder is deprecated. Please use tf.compat.v1.placeholder instead.\n",
      "\n",
      "W0924 07:16:22.254411 11132 deprecation_wrapper.py:119] From C:\\Users\\user\\Anaconda3\\envs\\tensorflow_gpu\\lib\\site-packages\\keras\\backend\\tensorflow_backend.py:4140: The name tf.random_uniform is deprecated. Please use tf.random.uniform instead.\n",
      "\n",
      "W0924 07:16:22.420965 11132 deprecation_wrapper.py:119] From C:\\Users\\user\\Anaconda3\\envs\\tensorflow_gpu\\lib\\site-packages\\keras\\backend\\tensorflow_backend.py:133: The name tf.placeholder_with_default is deprecated. Please use tf.compat.v1.placeholder_with_default instead.\n",
      "\n",
      "W0924 07:16:22.426949 11132 deprecation.py:506] From C:\\Users\\user\\Anaconda3\\envs\\tensorflow_gpu\\lib\\site-packages\\keras\\backend\\tensorflow_backend.py:3447: calling dropout (from tensorflow.python.ops.nn_ops) with keep_prob is deprecated and will be removed in a future version.\n",
      "Instructions for updating:\n",
      "Please use `rate` instead of `keep_prob`. Rate should be set to `rate = 1 - keep_prob`.\n"
     ]
    },
    {
     "name": "stdout",
     "output_type": "stream",
     "text": [
      "_________________________________________________________________\n",
      "Layer (type)                 Output Shape              Param #   \n",
      "=================================================================\n",
      "lstm_1 (LSTM)                (None, 32)                5376      \n",
      "_________________________________________________________________\n",
      "dropout_1 (Dropout)          (None, 32)                0         \n",
      "_________________________________________________________________\n",
      "dense_1 (Dense)              (None, 6)                 198       \n",
      "=================================================================\n",
      "Total params: 5,574\n",
      "Trainable params: 5,574\n",
      "Non-trainable params: 0\n",
      "_________________________________________________________________\n"
     ]
    }
   ],
   "source": [
    "# Initiliazing the sequential model\n",
    "model = Sequential()\n",
    "# Configuring the parameters\n",
    "model.add(LSTM(n_hidden, input_shape=(timesteps, input_dim)))\n",
    "# Adding a dropout layer\n",
    "model.add(Dropout(0.5))\n",
    "# Adding a dense output layer with sigmoid activation\n",
    "model.add(Dense(n_classes, activation='sigmoid'))\n",
    "model.summary()"
   ]
  },
  {
   "cell_type": "code",
   "execution_count": 18,
   "metadata": {},
   "outputs": [
    {
     "name": "stderr",
     "output_type": "stream",
     "text": [
      "W0924 07:16:22.458864 11132 deprecation_wrapper.py:119] From C:\\Users\\user\\Anaconda3\\envs\\tensorflow_gpu\\lib\\site-packages\\keras\\optimizers.py:790: The name tf.train.Optimizer is deprecated. Please use tf.compat.v1.train.Optimizer instead.\n",
      "\n",
      "W0924 07:16:22.477813 11132 deprecation_wrapper.py:119] From C:\\Users\\user\\Anaconda3\\envs\\tensorflow_gpu\\lib\\site-packages\\keras\\backend\\tensorflow_backend.py:3297: The name tf.log is deprecated. Please use tf.math.log instead.\n",
      "\n"
     ]
    }
   ],
   "source": [
    "# Compiling the model\n",
    "model.compile(loss='categorical_crossentropy',\n",
    "              optimizer='rmsprop',\n",
    "              metrics=['accuracy'])"
   ]
  },
  {
   "cell_type": "code",
   "execution_count": 19,
   "metadata": {},
   "outputs": [
    {
     "name": "stderr",
     "output_type": "stream",
     "text": [
      "W0924 07:16:22.639380 11132 deprecation.py:323] From C:\\Users\\user\\Anaconda3\\envs\\tensorflow_gpu\\lib\\site-packages\\tensorflow\\python\\ops\\math_grad.py:1250: add_dispatch_support.<locals>.wrapper (from tensorflow.python.ops.array_ops) is deprecated and will be removed in a future version.\n",
      "Instructions for updating:\n",
      "Use tf.where in 2.0, which has the same broadcast rule as np.where\n"
     ]
    },
    {
     "name": "stdout",
     "output_type": "stream",
     "text": [
      "2019-09-24 07:16:22.498757\n",
      "Train on 7352 samples, validate on 2947 samples\n",
      "Epoch 1/30\n",
      "7352/7352 [==============================] - 78s 11ms/step - loss: 1.3516 - acc: 0.4373 - val_loss: 1.1546 - val_acc: 0.4968\n",
      "Epoch 2/30\n",
      "7352/7352 [==============================] - 77s 10ms/step - loss: 0.9905 - acc: 0.5813 - val_loss: 0.9254 - val_acc: 0.5789\n",
      "Epoch 3/30\n",
      "7352/7352 [==============================] - 77s 10ms/step - loss: 0.7942 - acc: 0.6484 - val_loss: 0.8159 - val_acc: 0.6138\n",
      "Epoch 4/30\n",
      "7352/7352 [==============================] - 77s 10ms/step - loss: 0.7300 - acc: 0.6591 - val_loss: 0.7393 - val_acc: 0.6162\n",
      "Epoch 5/30\n",
      "7352/7352 [==============================] - 77s 10ms/step - loss: 0.6787 - acc: 0.6634 - val_loss: 0.7693 - val_acc: 0.6223\n",
      "Epoch 6/30\n",
      "7352/7352 [==============================] - 77s 10ms/step - loss: 0.6399 - acc: 0.6715 - val_loss: 0.7240 - val_acc: 0.6203\n",
      "Epoch 7/30\n",
      "7352/7352 [==============================] - 77s 10ms/step - loss: 0.6171 - acc: 0.6766 - val_loss: 0.8106 - val_acc: 0.6233\n",
      "Epoch 8/30\n",
      "7352/7352 [==============================] - 77s 10ms/step - loss: 0.5982 - acc: 0.6766 - val_loss: 0.7961 - val_acc: 0.6223\n",
      "Epoch 9/30\n",
      "7352/7352 [==============================] - 77s 11ms/step - loss: 0.6200 - acc: 0.6736 - val_loss: 0.6912 - val_acc: 0.6216\n",
      "Epoch 10/30\n",
      "7352/7352 [==============================] - 77s 10ms/step - loss: 0.5727 - acc: 0.6855 - val_loss: 0.9229 - val_acc: 0.5758\n",
      "Epoch 11/30\n",
      "7352/7352 [==============================] - 77s 10ms/step - loss: 0.5744 - acc: 0.7018 - val_loss: 0.6194 - val_acc: 0.7313\n",
      "Epoch 12/30\n",
      "7352/7352 [==============================] - 77s 10ms/step - loss: 0.5376 - acc: 0.7367 - val_loss: 0.6951 - val_acc: 0.7431\n",
      "Epoch 13/30\n",
      "7352/7352 [==============================] - 77s 11ms/step - loss: 0.5229 - acc: 0.7480 - val_loss: 0.6607 - val_acc: 0.7553\n",
      "Epoch 14/30\n",
      "7352/7352 [==============================] - 77s 10ms/step - loss: 0.4890 - acc: 0.7850 - val_loss: 0.5806 - val_acc: 0.7693\n",
      "Epoch 15/30\n",
      "7352/7352 [==============================] - 77s 10ms/step - loss: 0.4615 - acc: 0.7984 - val_loss: 0.5293 - val_acc: 0.7550\n",
      "Epoch 16/30\n",
      "7352/7352 [==============================] - 77s 10ms/step - loss: 0.4035 - acc: 0.8150 - val_loss: 0.4747 - val_acc: 0.7696\n",
      "Epoch 17/30\n",
      "7352/7352 [==============================] - 77s 10ms/step - loss: 0.3606 - acc: 0.8403 - val_loss: 0.4555 - val_acc: 0.7822\n",
      "Epoch 18/30\n",
      "7352/7352 [==============================] - 77s 10ms/step - loss: 0.3306 - acc: 0.8751 - val_loss: 0.5647 - val_acc: 0.8453\n",
      "Epoch 19/30\n",
      "7352/7352 [==============================] - 77s 10ms/step - loss: 0.2965 - acc: 0.9151 - val_loss: 0.5035 - val_acc: 0.8785\n",
      "Epoch 20/30\n",
      "7352/7352 [==============================] - 78s 11ms/step - loss: 0.2396 - acc: 0.9282 - val_loss: 0.4629 - val_acc: 0.8823\n",
      "Epoch 21/30\n",
      "7352/7352 [==============================] - 77s 11ms/step - loss: 0.2278 - acc: 0.9324 - val_loss: 0.4395 - val_acc: 0.8795\n",
      "Epoch 22/30\n",
      "7352/7352 [==============================] - 77s 11ms/step - loss: 0.2243 - acc: 0.9387 - val_loss: 0.5218 - val_acc: 0.8772\n",
      "Epoch 23/30\n",
      "7352/7352 [==============================] - 77s 10ms/step - loss: 0.2071 - acc: 0.9387 - val_loss: 0.4529 - val_acc: 0.8826\n",
      "Epoch 24/30\n",
      "7352/7352 [==============================] - 77s 10ms/step - loss: 0.2572 - acc: 0.9295 - val_loss: 0.4033 - val_acc: 0.9006\n",
      "Epoch 25/30\n",
      "7352/7352 [==============================] - 77s 10ms/step - loss: 0.1830 - acc: 0.9396 - val_loss: 0.4352 - val_acc: 0.8890\n",
      "Epoch 26/30\n",
      "7352/7352 [==============================] - 77s 10ms/step - loss: 0.1735 - acc: 0.9423 - val_loss: 0.4347 - val_acc: 0.8843\n",
      "Epoch 27/30\n",
      "7352/7352 [==============================] - 77s 10ms/step - loss: 0.1565 - acc: 0.9459 - val_loss: 0.5981 - val_acc: 0.8758\n",
      "Epoch 28/30\n",
      "7352/7352 [==============================] - 77s 11ms/step - loss: 0.1751 - acc: 0.9460 - val_loss: 0.4378 - val_acc: 0.8890\n",
      "Epoch 29/30\n",
      "7352/7352 [==============================] - 77s 11ms/step - loss: 0.1725 - acc: 0.9448 - val_loss: 0.4736 - val_acc: 0.8884\n",
      "Epoch 30/30\n",
      "7352/7352 [==============================] - 77s 10ms/step - loss: 0.1668 - acc: 0.9474 - val_loss: 0.4679 - val_acc: 0.8935\n",
      "2019-09-24 07:54:56.293046\n"
     ]
    }
   ],
   "source": [
    "# Training the model\n",
    "from datetime import datetime\n",
    "print(datetime.now())\n",
    "model.fit(X_train,\n",
    "          Y_train,\n",
    "          batch_size=batch_size,\n",
    "          validation_data=(X_test, Y_test),\n",
    "          epochs=epochs)\n",
    "print(datetime.now())"
   ]
  },
  {
   "cell_type": "code",
   "execution_count": 20,
   "metadata": {},
   "outputs": [
    {
     "name": "stdout",
     "output_type": "stream",
     "text": [
      "Pred                LAYING  SITTING  STANDING  WALKING  WALKING_DOWNSTAIRS  \\\n",
      "True                                                                         \n",
      "LAYING                 510        0         0        0                   0   \n",
      "SITTING                  0      392        98        0                   1   \n",
      "STANDING                 0       94       437        1                   0   \n",
      "WALKING                  0        0         0      455                  29   \n",
      "WALKING_DOWNSTAIRS       0        0         0        6                 408   \n",
      "WALKING_UPSTAIRS         0        3         0        0                  37   \n",
      "\n",
      "Pred                WALKING_UPSTAIRS  \n",
      "True                                  \n",
      "LAYING                            27  \n",
      "SITTING                            0  \n",
      "STANDING                           0  \n",
      "WALKING                           12  \n",
      "WALKING_DOWNSTAIRS                 6  \n",
      "WALKING_UPSTAIRS                 431  \n"
     ]
    }
   ],
   "source": [
    "# Confusion Matrix\n",
    "print(confusion_matrix(Y_test, model.predict(X_test)))"
   ]
  },
  {
   "cell_type": "code",
   "execution_count": 21,
   "metadata": {},
   "outputs": [
    {
     "name": "stdout",
     "output_type": "stream",
     "text": [
      "2947/2947 [==============================] - 5s 2ms/step\n"
     ]
    }
   ],
   "source": [
    "score = model.evaluate(X_test, Y_test)"
   ]
  },
  {
   "cell_type": "code",
   "execution_count": 22,
   "metadata": {},
   "outputs": [
    {
     "data": {
      "text/plain": [
       "[0.46790618231734715, 0.8934509670851714]"
      ]
     },
     "execution_count": 22,
     "metadata": {},
     "output_type": "execute_result"
    }
   ],
   "source": [
    "score"
   ]
  },
  {
   "cell_type": "markdown",
   "metadata": {},
   "source": [
    "- With a simple 2 layer architecture we got 90.09% accuracy and a loss of 0.30\n",
    "- We can further imporve the performace with Hyperparameter tuning"
   ]
  },
  {
   "cell_type": "code",
   "execution_count": 24,
   "metadata": {},
   "outputs": [
    {
     "name": "stderr",
     "output_type": "stream",
     "text": [
      "W0924 07:58:41.913558 11132 nn_ops.py:4224] Large dropout rate: 0.6 (>0.5). In TensorFlow 2.x, dropout() uses dropout rate instead of keep_prob. Please ensure that this is intended.\n"
     ]
    },
    {
     "name": "stdout",
     "output_type": "stream",
     "text": [
      "_________________________________________________________________\n",
      "Layer (type)                 Output Shape              Param #   \n",
      "=================================================================\n",
      "lstm_3 (LSTM)                (None, 64)                18944     \n",
      "_________________________________________________________________\n",
      "dropout_3 (Dropout)          (None, 64)                0         \n",
      "_________________________________________________________________\n",
      "dense_3 (Dense)              (None, 6)                 390       \n",
      "=================================================================\n",
      "Total params: 19,334\n",
      "Trainable params: 19,334\n",
      "Non-trainable params: 0\n",
      "_________________________________________________________________\n",
      "2019-09-24 07:58:41.970407\n",
      "Train on 7352 samples, validate on 2947 samples\n",
      "Epoch 1/30\n",
      "7352/7352 [==============================] - 40s 5ms/step - loss: 1.3192 - acc: 0.4191 - val_loss: 1.2715 - val_acc: 0.4031\n",
      "Epoch 2/30\n",
      "7352/7352 [==============================] - 39s 5ms/step - loss: 1.1527 - acc: 0.4665 - val_loss: 1.0893 - val_acc: 0.5446\n",
      "Epoch 3/30\n",
      "7352/7352 [==============================] - 39s 5ms/step - loss: 0.9778 - acc: 0.5839 - val_loss: 0.8870 - val_acc: 0.6678\n",
      "Epoch 4/30\n",
      "7352/7352 [==============================] - 39s 5ms/step - loss: 0.8199 - acc: 0.6359 - val_loss: 0.8878 - val_acc: 0.6186\n",
      "Epoch 5/30\n",
      "7352/7352 [==============================] - 39s 5ms/step - loss: 0.7895 - acc: 0.6349 - val_loss: 0.8058 - val_acc: 0.6200\n",
      "Epoch 6/30\n",
      "7352/7352 [==============================] - 39s 5ms/step - loss: 0.7274 - acc: 0.6461 - val_loss: 0.7671 - val_acc: 0.6115\n",
      "Epoch 7/30\n",
      "7352/7352 [==============================] - 39s 5ms/step - loss: 0.7278 - acc: 0.6602 - val_loss: 0.8135 - val_acc: 0.6064\n",
      "Epoch 8/30\n",
      "7352/7352 [==============================] - 39s 5ms/step - loss: 0.6593 - acc: 0.6960 - val_loss: 0.6513 - val_acc: 0.6573\n",
      "Epoch 9/30\n",
      "7352/7352 [==============================] - 39s 5ms/step - loss: 0.6165 - acc: 0.7233 - val_loss: 0.7633 - val_acc: 0.6427\n",
      "Epoch 10/30\n",
      "7352/7352 [==============================] - 39s 5ms/step - loss: 0.5644 - acc: 0.7632 - val_loss: 0.6096 - val_acc: 0.7631\n",
      "Epoch 11/30\n",
      "7352/7352 [==============================] - 39s 5ms/step - loss: 0.4942 - acc: 0.8017 - val_loss: 0.6741 - val_acc: 0.6858\n",
      "Epoch 12/30\n",
      "7352/7352 [==============================] - 39s 5ms/step - loss: 0.4163 - acc: 0.8558 - val_loss: 0.6758 - val_acc: 0.8029\n",
      "Epoch 13/30\n",
      "7352/7352 [==============================] - 39s 5ms/step - loss: 0.3774 - acc: 0.8796 - val_loss: 0.4588 - val_acc: 0.8439\n",
      "Epoch 14/30\n",
      "7352/7352 [==============================] - 39s 5ms/step - loss: 0.3113 - acc: 0.9040 - val_loss: 0.4238 - val_acc: 0.8687\n",
      "Epoch 15/30\n",
      "7352/7352 [==============================] - 39s 5ms/step - loss: 0.3311 - acc: 0.9003 - val_loss: 0.4134 - val_acc: 0.8741\n",
      "Epoch 16/30\n",
      "7352/7352 [==============================] - 39s 5ms/step - loss: 0.2470 - acc: 0.9242 - val_loss: 0.4404 - val_acc: 0.8806\n",
      "Epoch 17/30\n",
      "7352/7352 [==============================] - 39s 5ms/step - loss: 0.2784 - acc: 0.9142 - val_loss: 0.4152 - val_acc: 0.8856\n",
      "Epoch 18/30\n",
      "7352/7352 [==============================] - 39s 5ms/step - loss: 0.2240 - acc: 0.9252 - val_loss: 0.3913 - val_acc: 0.8846\n",
      "Epoch 19/30\n",
      "7352/7352 [==============================] - 39s 5ms/step - loss: 0.2089 - acc: 0.9335 - val_loss: 0.4428 - val_acc: 0.8880\n",
      "Epoch 20/30\n",
      "7352/7352 [==============================] - 39s 5ms/step - loss: 0.1980 - acc: 0.9363 - val_loss: 0.3847 - val_acc: 0.8904\n",
      "Epoch 21/30\n",
      "7352/7352 [==============================] - 40s 5ms/step - loss: 0.1908 - acc: 0.9374 - val_loss: 0.4257 - val_acc: 0.8833\n",
      "Epoch 22/30\n",
      "7352/7352 [==============================] - 41s 6ms/step - loss: 0.1721 - acc: 0.9378 - val_loss: 0.3659 - val_acc: 0.8839\n",
      "Epoch 23/30\n",
      "7352/7352 [==============================] - 39s 5ms/step - loss: 0.1896 - acc: 0.9438 - val_loss: 0.6913 - val_acc: 0.8622\n",
      "Epoch 24/30\n",
      "7352/7352 [==============================] - 39s 5ms/step - loss: 0.2172 - acc: 0.9388 - val_loss: 0.3696 - val_acc: 0.8945\n",
      "Epoch 25/30\n",
      "7352/7352 [==============================] - 39s 5ms/step - loss: 0.1759 - acc: 0.9422 - val_loss: 0.4014 - val_acc: 0.9046\n",
      "Epoch 26/30\n",
      "7352/7352 [==============================] - 39s 5ms/step - loss: 0.1730 - acc: 0.9415 - val_loss: 0.3551 - val_acc: 0.9067\n",
      "Epoch 27/30\n",
      "7352/7352 [==============================] - 39s 5ms/step - loss: 0.2058 - acc: 0.9403 - val_loss: 0.3565 - val_acc: 0.9023\n",
      "Epoch 28/30\n",
      "7352/7352 [==============================] - 39s 5ms/step - loss: 0.1714 - acc: 0.9441 - val_loss: 0.4695 - val_acc: 0.8948\n",
      "Epoch 29/30\n",
      "7352/7352 [==============================] - 39s 5ms/step - loss: 0.1846 - acc: 0.9372 - val_loss: 0.4130 - val_acc: 0.9053\n",
      "Epoch 30/30\n",
      "7352/7352 [==============================] - 39s 5ms/step - loss: 0.1502 - acc: 0.9448 - val_loss: 0.5425 - val_acc: 0.8843\n",
      "2019-09-24 08:18:17.525749\n",
      "Pred                LAYING  SITTING  STANDING  WALKING  WALKING_DOWNSTAIRS  \\\n",
      "True                                                                         \n",
      "LAYING                 510        0        26        0                   0   \n",
      "SITTING                  0      381       110        0                   0   \n",
      "STANDING                 0       80       449        3                   0   \n",
      "WALKING                  0        0         0      474                   5   \n",
      "WALKING_DOWNSTAIRS       0        0         0       23                 369   \n",
      "WALKING_UPSTAIRS         0        0         0       44                   4   \n",
      "\n",
      "Pred                WALKING_UPSTAIRS  \n",
      "True                                  \n",
      "LAYING                             1  \n",
      "SITTING                            0  \n",
      "STANDING                           0  \n",
      "WALKING                           17  \n",
      "WALKING_DOWNSTAIRS                28  \n",
      "WALKING_UPSTAIRS                 423  \n",
      "2947/2947 [==============================] - 5s 2ms/step\n",
      "[0.5425026916411069, 0.8842891075670173]\n"
     ]
    }
   ],
   "source": [
    "epochs = 30\n",
    "batch_size = 32\n",
    "n_hidden = 64\n",
    "\n",
    "# Initiliazing the sequential model\n",
    "model = Sequential()\n",
    "# Configuring the parameters\n",
    "model.add(LSTM(n_hidden, input_shape=(timesteps, input_dim),kernel_initializer='glorot_normal'))\n",
    "# Adding a dropout layer\n",
    "model.add(Dropout(0.6))\n",
    "# Adding a dense output layer with sigmoid activation\n",
    "model.add(Dense(n_classes, activation='sigmoid'))\n",
    "model.summary()\n",
    "\n",
    "# Compiling the model\n",
    "model.compile(loss='categorical_crossentropy',\n",
    "              optimizer='rmsprop',\n",
    "              metrics=['accuracy'])\n",
    "\n",
    "# Training the model\n",
    "from datetime import datetime\n",
    "print(datetime.now())\n",
    "model.fit(X_train,\n",
    "          Y_train,\n",
    "          batch_size=batch_size,\n",
    "          validation_data=(X_test, Y_test),\n",
    "          epochs=epochs)\n",
    "print(datetime.now())\n",
    "print(confusion_matrix(Y_test, model.predict(X_test)))\n",
    "score = model.evaluate(X_test, Y_test)\n",
    "print(score)"
   ]
  },
  {
   "cell_type": "markdown",
   "metadata": {},
   "source": [
    "## Model2"
   ]
  },
  {
   "cell_type": "code",
   "execution_count": 25,
   "metadata": {},
   "outputs": [
    {
     "name": "stderr",
     "output_type": "stream",
     "text": [
      "W0924 08:18:27.531993 11132 nn_ops.py:4224] Large dropout rate: 0.6 (>0.5). In TensorFlow 2.x, dropout() uses dropout rate instead of keep_prob. Please ensure that this is intended.\n",
      "W0924 08:18:27.703534 11132 nn_ops.py:4224] Large dropout rate: 0.6 (>0.5). In TensorFlow 2.x, dropout() uses dropout rate instead of keep_prob. Please ensure that this is intended.\n"
     ]
    },
    {
     "name": "stdout",
     "output_type": "stream",
     "text": [
      "_________________________________________________________________\n",
      "Layer (type)                 Output Shape              Param #   \n",
      "=================================================================\n",
      "lstm_4 (LSTM)                (None, 128, 64)           18944     \n",
      "_________________________________________________________________\n",
      "dropout_4 (Dropout)          (None, 128, 64)           0         \n",
      "_________________________________________________________________\n",
      "lstm_5 (LSTM)                (None, 32)                12416     \n",
      "_________________________________________________________________\n",
      "dropout_5 (Dropout)          (None, 32)                0         \n",
      "_________________________________________________________________\n",
      "batch_normalization_1 (Batch (None, 32)                128       \n",
      "_________________________________________________________________\n",
      "dense_4 (Dense)              (None, 6)                 198       \n",
      "=================================================================\n",
      "Total params: 31,686\n",
      "Trainable params: 31,622\n",
      "Non-trainable params: 64\n",
      "_________________________________________________________________\n",
      "2019-09-24 08:18:27.825208\n",
      "Train on 7352 samples, validate on 2947 samples\n",
      "Epoch 1/30\n",
      "7352/7352 [==============================] - 80s 11ms/step - loss: 1.3120 - acc: 0.4924 - val_loss: 0.9480 - val_acc: 0.6196\n",
      "Epoch 2/30\n",
      "7352/7352 [==============================] - 78s 11ms/step - loss: 0.8866 - acc: 0.6775 - val_loss: 0.7131 - val_acc: 0.7218\n",
      "Epoch 3/30\n",
      "7352/7352 [==============================] - 78s 11ms/step - loss: 0.7056 - acc: 0.7338 - val_loss: 0.7447 - val_acc: 0.6820\n",
      "Epoch 4/30\n",
      "7352/7352 [==============================] - 78s 11ms/step - loss: 0.6113 - acc: 0.7598 - val_loss: 0.7082 - val_acc: 0.7238\n",
      "Epoch 5/30\n",
      "7352/7352 [==============================] - 78s 11ms/step - loss: 0.5172 - acc: 0.7871 - val_loss: 0.4952 - val_acc: 0.7917\n",
      "Epoch 6/30\n",
      "7352/7352 [==============================] - 79s 11ms/step - loss: 0.4286 - acc: 0.8557 - val_loss: 0.4938 - val_acc: 0.8331\n",
      "Epoch 7/30\n",
      "7352/7352 [==============================] - 79s 11ms/step - loss: 0.3149 - acc: 0.9075 - val_loss: 0.4043 - val_acc: 0.8694\n",
      "Epoch 8/30\n",
      "7352/7352 [==============================] - 79s 11ms/step - loss: 0.2432 - acc: 0.9225 - val_loss: 0.4058 - val_acc: 0.8907\n",
      "Epoch 9/30\n",
      "7352/7352 [==============================] - 78s 11ms/step - loss: 0.2286 - acc: 0.9287 - val_loss: 0.2939 - val_acc: 0.9016\n",
      "Epoch 10/30\n",
      "7352/7352 [==============================] - 79s 11ms/step - loss: 0.1964 - acc: 0.9362 - val_loss: 0.2706 - val_acc: 0.9050\n",
      "Epoch 11/30\n",
      "7352/7352 [==============================] - 78s 11ms/step - loss: 0.1921 - acc: 0.9331 - val_loss: 0.3631 - val_acc: 0.8968\n",
      "Epoch 12/30\n",
      "7352/7352 [==============================] - 79s 11ms/step - loss: 0.1945 - acc: 0.9361 - val_loss: 0.2935 - val_acc: 0.9152\n",
      "Epoch 13/30\n",
      "7352/7352 [==============================] - 79s 11ms/step - loss: 0.1708 - acc: 0.9368 - val_loss: 0.4909 - val_acc: 0.8914\n",
      "Epoch 14/30\n",
      "7352/7352 [==============================] - 82s 11ms/step - loss: 0.1652 - acc: 0.9427 - val_loss: 0.3815 - val_acc: 0.9216\n",
      "Epoch 15/30\n",
      "7352/7352 [==============================] - 81s 11ms/step - loss: 0.1732 - acc: 0.9381 - val_loss: 0.2975 - val_acc: 0.9114\n",
      "Epoch 16/30\n",
      "7352/7352 [==============================] - 80s 11ms/step - loss: 0.1630 - acc: 0.9437 - val_loss: 0.3922 - val_acc: 0.9192\n",
      "Epoch 17/30\n",
      "7352/7352 [==============================] - 80s 11ms/step - loss: 0.1529 - acc: 0.9446 - val_loss: 0.4388 - val_acc: 0.9097\n",
      "Epoch 18/30\n",
      "7352/7352 [==============================] - 79s 11ms/step - loss: 0.1617 - acc: 0.9437 - val_loss: 0.3859 - val_acc: 0.8955\n",
      "Epoch 19/30\n",
      "7352/7352 [==============================] - 79s 11ms/step - loss: 0.1485 - acc: 0.9430 - val_loss: 0.3146 - val_acc: 0.9179\n",
      "Epoch 20/30\n",
      "7352/7352 [==============================] - 80s 11ms/step - loss: 0.1548 - acc: 0.9459 - val_loss: 0.3360 - val_acc: 0.9135\n",
      "Epoch 21/30\n",
      "7352/7352 [==============================] - 80s 11ms/step - loss: 0.1624 - acc: 0.9418 - val_loss: 0.2865 - val_acc: 0.9155\n",
      "Epoch 22/30\n",
      "7352/7352 [==============================] - 80s 11ms/step - loss: 0.1497 - acc: 0.9489 - val_loss: 0.3801 - val_acc: 0.9182\n",
      "Epoch 23/30\n",
      "7352/7352 [==============================] - 80s 11ms/step - loss: 0.1544 - acc: 0.9450 - val_loss: 0.2390 - val_acc: 0.9250\n",
      "Epoch 24/30\n",
      "7352/7352 [==============================] - 79s 11ms/step - loss: 0.1408 - acc: 0.9491 - val_loss: 0.2729 - val_acc: 0.9240\n",
      "Epoch 25/30\n",
      "7352/7352 [==============================] - 79s 11ms/step - loss: 0.1442 - acc: 0.9457 - val_loss: 0.3573 - val_acc: 0.9247\n",
      "Epoch 26/30\n",
      "7352/7352 [==============================] - 78s 11ms/step - loss: 0.1458 - acc: 0.9468 - val_loss: 0.3145 - val_acc: 0.9192\n",
      "Epoch 27/30\n",
      "7352/7352 [==============================] - 79s 11ms/step - loss: 0.1520 - acc: 0.9476 - val_loss: 0.5416 - val_acc: 0.9182\n",
      "Epoch 28/30\n",
      "7352/7352 [==============================] - 78s 11ms/step - loss: 0.1566 - acc: 0.9457 - val_loss: 0.3957 - val_acc: 0.9165\n",
      "Epoch 29/30\n",
      "7352/7352 [==============================] - 77s 11ms/step - loss: 0.1368 - acc: 0.9457 - val_loss: 0.3239 - val_acc: 0.9118\n",
      "Epoch 30/30\n",
      "7352/7352 [==============================] - 78s 11ms/step - loss: 0.1443 - acc: 0.9449 - val_loss: 0.3391 - val_acc: 0.9196\n",
      "2019-09-24 08:57:57.263058\n",
      "Pred                LAYING  SITTING  STANDING  WALKING  WALKING_DOWNSTAIRS  \\\n",
      "True                                                                         \n",
      "LAYING                 537        0         0        0                   0   \n",
      "SITTING                  5      396        68        0                   0   \n",
      "STANDING                 0       91       438        1                   0   \n",
      "WALKING                  0        5        12      463                   4   \n",
      "WALKING_DOWNSTAIRS       0        0         0        1                 415   \n",
      "WALKING_UPSTAIRS         0        1         0        0                   9   \n",
      "\n",
      "Pred                WALKING_UPSTAIRS  \n",
      "True                                  \n",
      "LAYING                             0  \n",
      "SITTING                           22  \n",
      "STANDING                           2  \n",
      "WALKING                           12  \n",
      "WALKING_DOWNSTAIRS                 4  \n",
      "WALKING_UPSTAIRS                 461  \n",
      "2947/2947 [==============================] - 10s 3ms/step\n",
      "[0.3390530227621052, 0.9195792331184255]\n"
     ]
    }
   ],
   "source": [
    "epochs = 30\n",
    "batch_size = 32\n",
    "n_hidden = 64\n",
    "from keras.layers import BatchNormalization\n",
    "\n",
    "# Initiliazing the sequential model\n",
    "model = Sequential()\n",
    "# Configuring the parameters\n",
    "model.add(LSTM(n_hidden, input_shape=(timesteps, input_dim),kernel_initializer='glorot_normal',return_sequences=True))\n",
    "# Adding a dropout layer\n",
    "model.add(Dropout(0.6))\n",
    "model.add(LSTM(32))\n",
    "model.add(Dropout(0.6))\n",
    "model.add(BatchNormalization())\n",
    "\n",
    "# Adding a dense output layer with sigmoid activation\n",
    "model.add(Dense(n_classes, activation='sigmoid'))\n",
    "model.summary()\n",
    "\n",
    "# Compiling the model\n",
    "model.compile(loss='categorical_crossentropy',\n",
    "              optimizer='rmsprop',\n",
    "              metrics=['accuracy'])\n",
    "\n",
    "# Training the model\n",
    "from datetime import datetime\n",
    "print(datetime.now())\n",
    "model.fit(X_train,\n",
    "          Y_train,\n",
    "          batch_size=batch_size,\n",
    "          validation_data=(X_test, Y_test),\n",
    "          epochs=epochs)\n",
    "print(datetime.now())\n",
    "print(confusion_matrix(Y_test, model.predict(X_test)))\n",
    "score = model.evaluate(X_test, Y_test)\n",
    "print(score)"
   ]
  },
  {
   "cell_type": "code",
   "execution_count": 29,
   "metadata": {},
   "outputs": [
    {
     "name": "stdout",
     "output_type": "stream",
     "text": [
      "_________________________________________________________________\n",
      "Layer (type)                 Output Shape              Param #   \n",
      "=================================================================\n",
      "lstm_12 (LSTM)               (None, 128, 64)           18944     \n",
      "_________________________________________________________________\n",
      "dropout_12 (Dropout)         (None, 128, 64)           0         \n",
      "_________________________________________________________________\n",
      "lstm_13 (LSTM)               (None, 32)                12416     \n",
      "_________________________________________________________________\n",
      "dropout_13 (Dropout)         (None, 32)                0         \n",
      "_________________________________________________________________\n",
      "dense_8 (Dense)              (None, 6)                 198       \n",
      "=================================================================\n",
      "Total params: 31,558\n",
      "Trainable params: 31,558\n",
      "Non-trainable params: 0\n",
      "_________________________________________________________________\n",
      "2019-09-24 09:19:20.170096\n",
      "Train on 7352 samples, validate on 2947 samples\n",
      "Epoch 1/20\n",
      "7352/7352 [==============================] - 79s 11ms/step - loss: 1.2766 - acc: 0.4699 - val_loss: 1.1629 - val_acc: 0.4601\n",
      "Epoch 2/20\n",
      "7352/7352 [==============================] - 78s 11ms/step - loss: 0.9665 - acc: 0.5939 - val_loss: 0.8838 - val_acc: 0.6254\n",
      "Epoch 3/20\n",
      "7352/7352 [==============================] - 77s 11ms/step - loss: 0.7713 - acc: 0.6561 - val_loss: 0.7593 - val_acc: 0.6535\n",
      "Epoch 4/20\n",
      "7352/7352 [==============================] - 78s 11ms/step - loss: 0.6846 - acc: 0.7036 - val_loss: 0.6996 - val_acc: 0.7085\n",
      "Epoch 5/20\n",
      "7352/7352 [==============================] - 78s 11ms/step - loss: 0.6266 - acc: 0.7338 - val_loss: 0.6358 - val_acc: 0.7384\n",
      "Epoch 6/20\n",
      "7352/7352 [==============================] - 78s 11ms/step - loss: 0.5140 - acc: 0.7821 - val_loss: 0.5313 - val_acc: 0.7570\n",
      "Epoch 7/20\n",
      "7352/7352 [==============================] - 78s 11ms/step - loss: 0.4355 - acc: 0.8175 - val_loss: 0.4871 - val_acc: 0.8300\n",
      "Epoch 8/20\n",
      "7352/7352 [==============================] - 77s 11ms/step - loss: 0.3666 - acc: 0.8701 - val_loss: 0.4046 - val_acc: 0.8683\n",
      "Epoch 9/20\n",
      "7352/7352 [==============================] - 78s 11ms/step - loss: 0.2886 - acc: 0.9142 - val_loss: 0.3991 - val_acc: 0.8778\n",
      "Epoch 10/20\n",
      "7352/7352 [==============================] - 77s 11ms/step - loss: 0.2375 - acc: 0.9297 - val_loss: 0.3332 - val_acc: 0.8894\n",
      "Epoch 11/20\n",
      "7352/7352 [==============================] - 78s 11ms/step - loss: 0.2047 - acc: 0.9387 - val_loss: 0.3235 - val_acc: 0.9009\n",
      "Epoch 12/20\n",
      "7352/7352 [==============================] - 78s 11ms/step - loss: 0.2008 - acc: 0.9347 - val_loss: 0.5682 - val_acc: 0.8629\n",
      "Epoch 13/20\n",
      "7352/7352 [==============================] - 77s 11ms/step - loss: 0.1862 - acc: 0.9399 - val_loss: 0.4255 - val_acc: 0.8826\n",
      "Epoch 14/20\n",
      "7352/7352 [==============================] - 77s 11ms/step - loss: 0.1818 - acc: 0.9425 - val_loss: 0.3221 - val_acc: 0.9033\n",
      "Epoch 15/20\n",
      "7352/7352 [==============================] - 77s 11ms/step - loss: 0.1530 - acc: 0.9491 - val_loss: 0.3262 - val_acc: 0.8979\n",
      "Epoch 16/20\n",
      "7352/7352 [==============================] - 77s 11ms/step - loss: 0.1449 - acc: 0.9491 - val_loss: 0.3639 - val_acc: 0.9006\n",
      "Epoch 17/20\n",
      "7352/7352 [==============================] - 77s 11ms/step - loss: 0.1400 - acc: 0.9475 - val_loss: 0.3461 - val_acc: 0.9131\n",
      "Epoch 18/20\n",
      "7352/7352 [==============================] - 77s 11ms/step - loss: 0.1466 - acc: 0.9493 - val_loss: 0.3985 - val_acc: 0.8907\n",
      "Epoch 19/20\n",
      "7352/7352 [==============================] - 78s 11ms/step - loss: 0.1587 - acc: 0.9472 - val_loss: 0.4337 - val_acc: 0.8931\n",
      "Epoch 20/20\n",
      "7352/7352 [==============================] - 77s 11ms/step - loss: 0.1347 - acc: 0.9508 - val_loss: 0.4461 - val_acc: 0.9009\n",
      "2019-09-24 09:45:14.099250\n",
      "Pred                LAYING  SITTING  STANDING  WALKING  WALKING_DOWNSTAIRS  \\\n",
      "True                                                                         \n",
      "LAYING                 506        4        26        0                   0   \n",
      "SITTING                  0      368       119        0                   0   \n",
      "STANDING                 0       57       474        1                   0   \n",
      "WALKING                  0        3         1      438                  14   \n",
      "WALKING_DOWNSTAIRS       0        2         0        1                 403   \n",
      "WALKING_UPSTAIRS         0        1         0        2                   2   \n",
      "\n",
      "Pred                WALKING_UPSTAIRS  \n",
      "True                                  \n",
      "LAYING                             1  \n",
      "SITTING                            4  \n",
      "STANDING                           0  \n",
      "WALKING                           40  \n",
      "WALKING_DOWNSTAIRS                14  \n",
      "WALKING_UPSTAIRS                 466  \n",
      "2947/2947 [==============================] - 10s 3ms/step\n",
      "[0.4461110817937336, 0.9009161859518154]\n"
     ]
    }
   ],
   "source": [
    "epochs = 20\n",
    "batch_size = 32\n",
    "n_hidden = 64\n",
    "from keras.layers import BatchNormalization\n",
    "\n",
    "# Initiliazing the sequential model\n",
    "model = Sequential()\n",
    "# Configuring the parameters\n",
    "model.add(LSTM(n_hidden, input_shape=(timesteps, input_dim),kernel_initializer='glorot_normal',return_sequences=True))\n",
    "# Adding a dropout layer\n",
    "model.add(Dropout(0.6))\n",
    "model.add(LSTM(32,kernel_initializer='glorot_normal'))\n",
    "model.add(Dropout(0.4))\n",
    "\n",
    "# Adding a dense output layer with sigmoid activation\n",
    "model.add(Dense(n_classes, activation='sigmoid'))\n",
    "model.summary()\n",
    "\n",
    "# Compiling the model\n",
    "model.compile(loss='categorical_crossentropy',\n",
    "              optimizer='rmsprop',\n",
    "              metrics=['accuracy'])\n",
    "\n",
    "# Training the model\n",
    "from datetime import datetime\n",
    "print(datetime.now())\n",
    "model.fit(X_train,\n",
    "          Y_train,\n",
    "          batch_size=batch_size,\n",
    "          validation_data=(X_test, Y_test),\n",
    "          epochs=epochs)\n",
    "print(datetime.now())\n",
    "print(confusion_matrix(Y_test, model.predict(X_test)))\n",
    "score = model.evaluate(X_test, Y_test)\n",
    "print(score)"
   ]
  },
  {
   "cell_type": "markdown",
   "metadata": {},
   "source": [
    "### Observation: "
   ]
  },
  {
   "cell_type": "markdown",
   "metadata": {},
   "source": [
    "<li>already defined model gives accuracy of 89%</li>\n",
    "<li>Model 2 gives almost 93% of accuracy. Batch normalization, 2 layers of LSTM and drop out of 0.6 is used in this model.</li>"
   ]
  },
  {
   "cell_type": "code",
   "execution_count": null,
   "metadata": {},
   "outputs": [],
   "source": []
  }
 ],
 "metadata": {
  "kernelspec": {
   "display_name": "Python 3",
   "language": "python",
   "name": "python3"
  },
  "language_info": {
   "codemirror_mode": {
    "name": "ipython",
    "version": 3
   },
   "file_extension": ".py",
   "mimetype": "text/x-python",
   "name": "python",
   "nbconvert_exporter": "python",
   "pygments_lexer": "ipython3",
   "version": "3.6.9"
  }
 },
 "nbformat": 4,
 "nbformat_minor": 2
}
